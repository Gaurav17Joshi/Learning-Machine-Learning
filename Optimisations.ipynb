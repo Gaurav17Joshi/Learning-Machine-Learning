{
 "cells": [
  {
   "cell_type": "code",
   "execution_count": 1,
   "metadata": {},
   "outputs": [
    {
     "data": {
      "text/plain": [
       "<matplotlib.contour.QuadContourSet at 0x7fa9693f2c70>"
      ]
     },
     "execution_count": 1,
     "metadata": {},
     "output_type": "execute_result"
    },
    {
     "data": {
      "image/png": "[encoded data removed]",
      "text/plain": [
       "<Figure size 360x360 with 1 Axes>"
      ]
     },
     "metadata": {
      "needs_background": "light"
     },
     "output_type": "display_data"
    }
   ],
   "source": [
    "# Gradient descent\n",
    "# wk = w(k-1) - alpha*gradient(wk-1)\n",
    "\n",
    "# importing the autograd module;\n",
    "from autograd import grad\n",
    "import autograd.numpy as np\n",
    "\n",
    "def gradient_descent(g, alpha, maxits, w):\n",
    "    # g = the cost function , alpha = length factor\n",
    "    # maxits = maximum no of iterations, w = initial point\n",
    "    \n",
    "    gradient = grad(g)\n",
    "    weighthist = [w]\n",
    "    costhist = [g(w)]\n",
    "    gradies = []\n",
    "    \n",
    "    for k in range(maxits):\n",
    "        gradeval = gradient(w)\n",
    "        w = w - alpha*gradeval\n",
    "        \n",
    "        weighthist.append(w)\n",
    "        costhist.append(g(w))\n",
    "        gradies.append(gradeval)\n",
    "    \n",
    "    return weighthist, costhist, gradies\n",
    "\n",
    "# Random initialiser\n",
    "\n",
    "def randomw(N):\n",
    "    scale = 2\n",
    "    w = scale*np.random.randn(N,1)\n",
    "    return w\n",
    "\n",
    "a = np.array([1.1, 2])\n",
    "\n",
    "def g(w):\n",
    "    return w[0]**3 + w[1]**2\n",
    "\n",
    "gradient = grad(g)\n",
    "\n",
    "weighthist, costhist , gradies = gradient_descent(g, 0.2, 5, a)\n",
    "# print(weighthist)\n",
    "\n",
    "import matplotlib.pyplot as plt\n",
    "fig, ax = plt.subplots()\n",
    "X = [t[0] for t in weighthist]\n",
    "Y = [t[1] for t in weighthist]\n",
    "ax.plot( X , Y , '--or')\n",
    "\n",
    "fig.set(figwidth = 5, figheight = 5)\n",
    "\n",
    "X1, Y1 = np.meshgrid(np.linspace(0, 2.1, 100), np.linspace(0, 2.1, 100))\n",
    "Z1 = X1**3 + Y1**2\n",
    "level = np.linspace(Z1.min(), Z1.max(), 12)\n",
    "ax.contourf(X1, Y1, Z1 , levels=level, cmap = 'YlGn')"
   ]
  }
 ],
 "metadata": {
  "kernelspec": {
   "display_name": "Python 3.9.12 ('base')",
   "language": "python",
   "name": "python3"
  },
  "language_info": {
   "codemirror_mode": {
    "name": "ipython",
    "version": 3
   },
   "file_extension": ".py",
   "mimetype": "text/x-python",
   "name": "python",
   "nbconvert_exporter": "python",
   "pygments_lexer": "ipython3",
   "version": "3.9.12"
  },
  "orig_nbformat": 4,
  "vscode": {
   "interpreter": {
    "hash": "b7a0f0345bf008463265b97b79e6b6ac46fd48f5252c12e26d20b6a21351a366"
   }
  }
 },
 "nbformat": 4,
 "nbformat_minor": 2
}
